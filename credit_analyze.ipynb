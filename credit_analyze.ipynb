{
 "cells": [
  {
   "cell_type": "markdown",
   "id": "f71427e6",
   "metadata": {},
   "source": [
    "# Credit Score Classification Project\n",
    "\n",
    "### Problem Statement\n",
    "This project focuses on automating credit score classification for a global finance company. The company aims to use historical credit data to categorize customers into groups such as *Good*, *Standard*, and *Poor*, reducing manual review and improving credit decision-making efficiency.\n",
    "\n",
    "### Objective\n",
    "The goal was to build a supervised machine learning model capable of predicting a person’s **Credit Score** category based on their financial and behavioral data.\n",
    "\n",
    "### Approach\n",
    "1. **Data Preparation:** Removed identifiers, handled missing values, and standardized data types.  \n",
    "2. **Feature Processing:** Used separate pipelines for numerical and categorical variables.  \n",
    "3. **Modeling:** Applied a **Random Forest Classifier** for its stability and ability to handle mixed data types.  \n",
    "4. **Evaluation:** Split the data into training and validation sets to measure model accuracy and performance.  \n",
    "5. **Prediction:** Generated and exported predictions for unseen data (`submission.csv`).\n",
    "\n",
    "### Tools & Libraries\n",
    "Python, Pandas, NumPy, Scikit-learn, Jupyter Notebook / VS Code\n",
    "\n",
    "### Limitations\n",
    "As this project was part of a *Python Machine Learning* course, the focus was on building a clear, functional pipeline rather than achieving maximum accuracy. Advanced methods like hyperparameter tuning or feature engineering were not fully implemented due to time and resource limits.\n",
    "\n",
    "### Conclusion\n",
    "This project demonstrates a complete, interpretable, and efficient credit score classification pipeline. Despite its simplicity, it effectively shows how machine learning can automate real-world financial decision-making.\n"
   ]
  },
  {
   "cell_type": "markdown",
   "id": "cb0a08cf",
   "metadata": {},
   "source": [
    "Install All Required Libraries"
   ]
  },
  {
   "cell_type": "code",
   "execution_count": 12,
   "id": "9ec3b922",
   "metadata": {},
   "outputs": [
    {
     "name": "stdout",
     "output_type": "stream",
     "text": [
      " pandas already installed.\n",
      " numpy already installed.\n",
      " Installing scikit-learn ...\n"
     ]
    }
   ],
   "source": [
    "import sys\n",
    "import subprocess\n",
    "\n",
    "def install(pkg):\n",
    "    subprocess.check_call([sys.executable, \"-m\", \"pip\", \"install\", pkg, \"--quiet\"])\n",
    "\n",
    "packages = [\n",
    "    \"pandas\",\n",
    "    \"numpy\",\n",
    "    \"scikit-learn\"\n",
    "]\n",
    "\n",
    "for pkg in packages:\n",
    "    try:\n",
    "        __import__(pkg.replace(\"-\", \"_\"))\n",
    "        print(f\" {pkg} already installed.\")\n",
    "    except ImportError:\n",
    "        print(f\" Installing {pkg} ...\")\n",
    "        install(pkg)\n"
   ]
  },
  {
   "cell_type": "markdown",
   "id": "b001149f",
   "metadata": {},
   "source": [
    "Import Required Libraries"
   ]
  },
  {
   "cell_type": "code",
   "execution_count": null,
   "id": "3b978036",
   "metadata": {},
   "outputs": [],
   "source": [
    "import pandas as pd\n",
    "import numpy as np\n",
    "from sklearn.model_selection import train_test_split\n",
    "from sklearn.preprocessing import LabelEncoder, OrdinalEncoder, StandardScaler\n",
    "from sklearn.impute import SimpleImputer\n",
    "from sklearn.compose import ColumnTransformer\n",
    "from sklearn.pipeline import Pipeline\n",
    "from sklearn.ensemble import RandomForestClassifier\n",
    "from sklearn.metrics import accuracy_score, classification_report\n"
   ]
  },
  {
   "cell_type": "markdown",
   "id": "33152ccb",
   "metadata": {},
   "source": [
    "Load Data"
   ]
  },
  {
   "cell_type": "code",
   "execution_count": 13,
   "id": "33a78e30",
   "metadata": {},
   "outputs": [
    {
     "name": "stderr",
     "output_type": "stream",
     "text": [
      "C:\\Users\\isbat\\AppData\\Local\\Temp\\ipykernel_15352\\1416082934.py:2: DtypeWarning: Columns (26) have mixed types. Specify dtype option on import or set low_memory=False.\n",
      "  train = pd.read_csv(\"train.csv\")\n"
     ]
    },
    {
     "name": "stdout",
     "output_type": "stream",
     "text": [
      "Data Loaded Successfully!\n",
      "Train shape: (100000, 28)\n",
      "Test shape: (50000, 27)\n"
     ]
    },
    {
     "data": {
      "text/html": [
       "<div>\n",
       "<style scoped>\n",
       "    .dataframe tbody tr th:only-of-type {\n",
       "        vertical-align: middle;\n",
       "    }\n",
       "\n",
       "    .dataframe tbody tr th {\n",
       "        vertical-align: top;\n",
       "    }\n",
       "\n",
       "    .dataframe thead th {\n",
       "        text-align: right;\n",
       "    }\n",
       "</style>\n",
       "<table border=\"1\" class=\"dataframe\">\n",
       "  <thead>\n",
       "    <tr style=\"text-align: right;\">\n",
       "      <th></th>\n",
       "      <th>ID</th>\n",
       "      <th>Customer_ID</th>\n",
       "      <th>Month</th>\n",
       "      <th>Name</th>\n",
       "      <th>Age</th>\n",
       "      <th>SSN</th>\n",
       "      <th>Occupation</th>\n",
       "      <th>Annual_Income</th>\n",
       "      <th>Monthly_Inhand_Salary</th>\n",
       "      <th>Num_Bank_Accounts</th>\n",
       "      <th>...</th>\n",
       "      <th>Credit_Mix</th>\n",
       "      <th>Outstanding_Debt</th>\n",
       "      <th>Credit_Utilization_Ratio</th>\n",
       "      <th>Credit_History_Age</th>\n",
       "      <th>Payment_of_Min_Amount</th>\n",
       "      <th>Total_EMI_per_month</th>\n",
       "      <th>Amount_invested_monthly</th>\n",
       "      <th>Payment_Behaviour</th>\n",
       "      <th>Monthly_Balance</th>\n",
       "      <th>Credit_Score</th>\n",
       "    </tr>\n",
       "  </thead>\n",
       "  <tbody>\n",
       "    <tr>\n",
       "      <th>0</th>\n",
       "      <td>0x1602</td>\n",
       "      <td>CUS_0xd40</td>\n",
       "      <td>January</td>\n",
       "      <td>Aaron Maashoh</td>\n",
       "      <td>23</td>\n",
       "      <td>821-00-0265</td>\n",
       "      <td>Scientist</td>\n",
       "      <td>19114.12</td>\n",
       "      <td>1824.843333</td>\n",
       "      <td>3</td>\n",
       "      <td>...</td>\n",
       "      <td>_</td>\n",
       "      <td>809.98</td>\n",
       "      <td>26.822620</td>\n",
       "      <td>22 Years and 1 Months</td>\n",
       "      <td>No</td>\n",
       "      <td>49.574949</td>\n",
       "      <td>80.41529543900253</td>\n",
       "      <td>High_spent_Small_value_payments</td>\n",
       "      <td>312.49408867943663</td>\n",
       "      <td>Good</td>\n",
       "    </tr>\n",
       "    <tr>\n",
       "      <th>1</th>\n",
       "      <td>0x1603</td>\n",
       "      <td>CUS_0xd40</td>\n",
       "      <td>February</td>\n",
       "      <td>Aaron Maashoh</td>\n",
       "      <td>23</td>\n",
       "      <td>821-00-0265</td>\n",
       "      <td>Scientist</td>\n",
       "      <td>19114.12</td>\n",
       "      <td>NaN</td>\n",
       "      <td>3</td>\n",
       "      <td>...</td>\n",
       "      <td>Good</td>\n",
       "      <td>809.98</td>\n",
       "      <td>31.944960</td>\n",
       "      <td>NaN</td>\n",
       "      <td>No</td>\n",
       "      <td>49.574949</td>\n",
       "      <td>118.28022162236736</td>\n",
       "      <td>Low_spent_Large_value_payments</td>\n",
       "      <td>284.62916249607184</td>\n",
       "      <td>Good</td>\n",
       "    </tr>\n",
       "    <tr>\n",
       "      <th>2</th>\n",
       "      <td>0x1604</td>\n",
       "      <td>CUS_0xd40</td>\n",
       "      <td>March</td>\n",
       "      <td>Aaron Maashoh</td>\n",
       "      <td>-500</td>\n",
       "      <td>821-00-0265</td>\n",
       "      <td>Scientist</td>\n",
       "      <td>19114.12</td>\n",
       "      <td>NaN</td>\n",
       "      <td>3</td>\n",
       "      <td>...</td>\n",
       "      <td>Good</td>\n",
       "      <td>809.98</td>\n",
       "      <td>28.609352</td>\n",
       "      <td>22 Years and 3 Months</td>\n",
       "      <td>No</td>\n",
       "      <td>49.574949</td>\n",
       "      <td>81.699521264648</td>\n",
       "      <td>Low_spent_Medium_value_payments</td>\n",
       "      <td>331.2098628537912</td>\n",
       "      <td>Good</td>\n",
       "    </tr>\n",
       "    <tr>\n",
       "      <th>3</th>\n",
       "      <td>0x1605</td>\n",
       "      <td>CUS_0xd40</td>\n",
       "      <td>April</td>\n",
       "      <td>Aaron Maashoh</td>\n",
       "      <td>23</td>\n",
       "      <td>821-00-0265</td>\n",
       "      <td>Scientist</td>\n",
       "      <td>19114.12</td>\n",
       "      <td>NaN</td>\n",
       "      <td>3</td>\n",
       "      <td>...</td>\n",
       "      <td>Good</td>\n",
       "      <td>809.98</td>\n",
       "      <td>31.377862</td>\n",
       "      <td>22 Years and 4 Months</td>\n",
       "      <td>No</td>\n",
       "      <td>49.574949</td>\n",
       "      <td>199.4580743910713</td>\n",
       "      <td>Low_spent_Small_value_payments</td>\n",
       "      <td>223.45130972736786</td>\n",
       "      <td>Good</td>\n",
       "    </tr>\n",
       "    <tr>\n",
       "      <th>4</th>\n",
       "      <td>0x1606</td>\n",
       "      <td>CUS_0xd40</td>\n",
       "      <td>May</td>\n",
       "      <td>Aaron Maashoh</td>\n",
       "      <td>23</td>\n",
       "      <td>821-00-0265</td>\n",
       "      <td>Scientist</td>\n",
       "      <td>19114.12</td>\n",
       "      <td>1824.843333</td>\n",
       "      <td>3</td>\n",
       "      <td>...</td>\n",
       "      <td>Good</td>\n",
       "      <td>809.98</td>\n",
       "      <td>24.797347</td>\n",
       "      <td>22 Years and 5 Months</td>\n",
       "      <td>No</td>\n",
       "      <td>49.574949</td>\n",
       "      <td>41.420153086217326</td>\n",
       "      <td>High_spent_Medium_value_payments</td>\n",
       "      <td>341.48923103222177</td>\n",
       "      <td>Good</td>\n",
       "    </tr>\n",
       "  </tbody>\n",
       "</table>\n",
       "<p>5 rows × 28 columns</p>\n",
       "</div>"
      ],
      "text/plain": [
       "       ID Customer_ID     Month           Name   Age          SSN Occupation  \\\n",
       "0  0x1602   CUS_0xd40   January  Aaron Maashoh    23  821-00-0265  Scientist   \n",
       "1  0x1603   CUS_0xd40  February  Aaron Maashoh    23  821-00-0265  Scientist   \n",
       "2  0x1604   CUS_0xd40     March  Aaron Maashoh  -500  821-00-0265  Scientist   \n",
       "3  0x1605   CUS_0xd40     April  Aaron Maashoh    23  821-00-0265  Scientist   \n",
       "4  0x1606   CUS_0xd40       May  Aaron Maashoh    23  821-00-0265  Scientist   \n",
       "\n",
       "  Annual_Income  Monthly_Inhand_Salary  Num_Bank_Accounts  ...  Credit_Mix  \\\n",
       "0      19114.12            1824.843333                  3  ...           _   \n",
       "1      19114.12                    NaN                  3  ...        Good   \n",
       "2      19114.12                    NaN                  3  ...        Good   \n",
       "3      19114.12                    NaN                  3  ...        Good   \n",
       "4      19114.12            1824.843333                  3  ...        Good   \n",
       "\n",
       "   Outstanding_Debt Credit_Utilization_Ratio     Credit_History_Age  \\\n",
       "0            809.98                26.822620  22 Years and 1 Months   \n",
       "1            809.98                31.944960                    NaN   \n",
       "2            809.98                28.609352  22 Years and 3 Months   \n",
       "3            809.98                31.377862  22 Years and 4 Months   \n",
       "4            809.98                24.797347  22 Years and 5 Months   \n",
       "\n",
       "   Payment_of_Min_Amount Total_EMI_per_month Amount_invested_monthly  \\\n",
       "0                     No           49.574949       80.41529543900253   \n",
       "1                     No           49.574949      118.28022162236736   \n",
       "2                     No           49.574949         81.699521264648   \n",
       "3                     No           49.574949       199.4580743910713   \n",
       "4                     No           49.574949      41.420153086217326   \n",
       "\n",
       "                  Payment_Behaviour     Monthly_Balance Credit_Score  \n",
       "0   High_spent_Small_value_payments  312.49408867943663         Good  \n",
       "1    Low_spent_Large_value_payments  284.62916249607184         Good  \n",
       "2   Low_spent_Medium_value_payments   331.2098628537912         Good  \n",
       "3    Low_spent_Small_value_payments  223.45130972736786         Good  \n",
       "4  High_spent_Medium_value_payments  341.48923103222177         Good  \n",
       "\n",
       "[5 rows x 28 columns]"
      ]
     },
     "execution_count": 13,
     "metadata": {},
     "output_type": "execute_result"
    }
   ],
   "source": [
    "# Make sure your train.csv and test.csv are in the same folder as this script\n",
    "train = pd.read_csv(\"train.csv\")\n",
    "test = pd.read_csv(\"test.csv\")\n",
    "\n",
    "print(\"Data Loaded Successfully!\")\n",
    "print(\"Train shape:\", train.csv)\n",
    "print(\"Test shape:\", test.csv)\n",
    "train.head()\n"
   ]
  },
  {
   "cell_type": "markdown",
   "id": "3e684e89",
   "metadata": {},
   "source": [
    "Encode Target & Identify Feature Types"
   ]
  },
  {
   "cell_type": "code",
   "execution_count": 14,
   "id": "74c2c4b2",
   "metadata": {},
   "outputs": [
    {
     "name": "stdout",
     "output_type": "stream",
     "text": [
      " Target encoded successfully.\n",
      "Numeric features: 8\n",
      "Categorical features: 19\n"
     ]
    }
   ],
   "source": [
    "# In case Kernel 3 hasn't been run:\n",
    "if \"target_col\" not in locals():\n",
    "    target_col = \"Credit_Score\"\n",
    "    X = train.drop(columns=[target_col])\n",
    "    y = train[target_col]\n",
    "\n",
    "# Encode target\n",
    "le = LabelEncoder()\n",
    "y = le.fit_transform(y)\n",
    "\n",
    "# Separate numeric & categorical features\n",
    "numeric_feats = X.select_dtypes(include=[np.number]).columns.tolist()\n",
    "cat_feats = X.select_dtypes(exclude=[np.number]).columns.tolist()\n",
    "\n",
    "print(\" Target encoded successfully.\")\n",
    "print(\"Numeric features:\", len(numeric_feats))\n",
    "print(\"Categorical features:\", len(cat_feats))\n"
   ]
  },
  {
   "cell_type": "markdown",
   "id": "ab5eec6b",
   "metadata": {},
   "source": [
    "Build Preprocessing Pipelines"
   ]
  },
  {
   "cell_type": "code",
   "execution_count": 15,
   "id": "7eb36998",
   "metadata": {},
   "outputs": [
    {
     "name": "stdout",
     "output_type": "stream",
     "text": [
      " Preprocessor pipeline created successfully.\n"
     ]
    }
   ],
   "source": [
    "numeric_transformer = Pipeline(steps=[\n",
    "    (\"imputer\", SimpleImputer(strategy=\"median\")),\n",
    "    (\"scaler\", StandardScaler())\n",
    "])\n",
    "\n",
    "categorical_transformer = Pipeline(steps=[\n",
    "    (\"imputer\", SimpleImputer(strategy=\"most_frequent\")),\n",
    "    (\"encoder\", OrdinalEncoder(handle_unknown=\"use_encoded_value\", unknown_value=-1))\n",
    "])\n",
    "\n",
    "preprocessor = ColumnTransformer(transformers=[\n",
    "    (\"num\", numeric_transformer, numeric_feats),\n",
    "    (\"cat\", categorical_transformer, cat_feats)\n",
    "])\n",
    "\n",
    "print(\" Preprocessor pipeline created successfully.\")\n"
   ]
  },
  {
   "cell_type": "markdown",
   "id": "46411b97",
   "metadata": {},
   "source": [
    "Build & Train Model"
   ]
  },
  {
   "cell_type": "code",
   "execution_count": 18,
   "id": "496cd3ca",
   "metadata": {},
   "outputs": [
    {
     "name": "stdout",
     "output_type": "stream",
     "text": [
      "Model trained successfully (fixed version).\n",
      "Validation Accuracy: 0.7698666666666667\n",
      "\n",
      "Classification Report:\n",
      "               precision    recall  f1-score   support\n",
      "\n",
      "           0       0.70      0.70      0.70      2674\n",
      "           1       0.78      0.74      0.76      4350\n",
      "           2       0.78      0.81      0.80      7976\n",
      "\n",
      "    accuracy                           0.77     15000\n",
      "   macro avg       0.76      0.75      0.75     15000\n",
      "weighted avg       0.77      0.77      0.77     15000\n",
      "\n"
     ]
    }
   ],
   "source": [
    "# Ensure categorical columns are strings to prevent mixed-type errors\n",
    "for col in cat_feats:\n",
    "    X[col] = X[col].astype(str)\n",
    "    if 'X_val' in locals():\n",
    "        X_val[col] = X_val[col].astype(str)\n",
    "\n",
    "model = Pipeline(steps=[\n",
    "    (\"preprocessor\", preprocessor),\n",
    "    (\"classifier\", RandomForestClassifier(n_estimators=100, random_state=42))\n",
    "])\n",
    "\n",
    "# Train-validation split\n",
    "X_train, X_val, y_train, y_val = train_test_split(\n",
    "    X, y, test_size=0.15, random_state=42, stratify=y\n",
    ")\n",
    "\n",
    "# Convert validation categorical columns too\n",
    "for col in cat_feats:\n",
    "    X_train[col] = X_train[col].astype(str)\n",
    "    X_val[col] = X_val[col].astype(str)\n",
    "\n",
    "# Fit the model\n",
    "model.fit(X_train, y_train)\n",
    "val_preds = model.predict(X_val)\n",
    "\n",
    "print(\"Model trained successfully (fixed version).\")\n",
    "print(\"Validation Accuracy:\", accuracy_score(y_val, val_preds))\n",
    "print(\"\\nClassification Report:\\n\", classification_report(y_val, val_preds, target_names=[str(c) for c in le.classes_]))\n"
   ]
  },
  {
   "cell_type": "markdown",
   "id": "9c4a8ed5",
   "metadata": {},
   "source": [
    "Final Training on Full Data + Test Prediction"
   ]
  },
  {
   "cell_type": "code",
   "execution_count": 17,
   "id": "25ce9b86",
   "metadata": {},
   "outputs": [
    {
     "name": "stdout",
     "output_type": "stream",
     "text": [
      " Predictions done on test set!\n"
     ]
    }
   ],
   "source": [
    "# Train on full dataset\n",
    "model.fit(X, y)\n",
    "\n",
    "X_test = test.copy()\n",
    "if target_col in X_test.columns:\n",
    "    X_test = X_test.drop(columns=[target_col])\n",
    "\n",
    "preds = model.predict(X_test)\n",
    "preds_labels = le.inverse_transform(preds)\n",
    "\n",
    "print(\" Predictions done on test set!\")\n"
   ]
  },
  {
   "cell_type": "markdown",
   "id": "c2e93fb9",
   "metadata": {},
   "source": [
    "Save Submission File"
   ]
  },
  {
   "cell_type": "code",
   "execution_count": null,
   "id": "7695d478",
   "metadata": {},
   "outputs": [
    {
     "name": "stdout",
     "output_type": "stream",
     "text": [
      " Submission file 'submission.csv' saved successfully!\n",
      "  Customer_ID Credit_Score\n",
      "0   CUS_0xd40         Good\n",
      "1   CUS_0xd40         Good\n",
      "2   CUS_0xd40         Good\n",
      "3   CUS_0xd40         Good\n",
      "4  CUS_0x21b1     Standard\n"
     ]
    }
   ],
   "source": [
    "if \"Customer_ID\" in test.columns:\n",
    "    submission = pd.DataFrame({\n",
    "        \"Customer_ID\": test[\"Customer_ID\"],\n",
    "        \"Credit_Score\": preds_labels\n",
    "    })\n",
    "else:\n",
    "    submission = pd.DataFrame({\"Credit_Score\": preds_labels})\n",
    "\n",
    "submission.to_csv(\"submission.csv\", index=False)\n",
    "print(\" Submission file 'submission.csv' saved successfully!\")\n",
    "print(submission.head())\n"
   ]
  },
  {
   "cell_type": "code",
   "execution_count": null,
   "id": "49e01c3f",
   "metadata": {},
   "outputs": [],
   "source": []
  }
 ],
 "metadata": {
  "kernelspec": {
   "display_name": "Python 3",
   "language": "python",
   "name": "python3"
  },
  "language_info": {
   "codemirror_mode": {
    "name": "ipython",
    "version": 3
   },
   "file_extension": ".py",
   "mimetype": "text/x-python",
   "name": "python",
   "nbconvert_exporter": "python",
   "pygments_lexer": "ipython3",
   "version": "3.13.0"
  }
 },
 "nbformat": 4,
 "nbformat_minor": 5
}
